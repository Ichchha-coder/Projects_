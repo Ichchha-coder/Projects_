{
  "nbformat": 4,
  "nbformat_minor": 0,
  "metadata": {
    "colab": {
      "provenance": [],
      "authorship_tag": "ABX9TyP4evANY27b6cvZGcb8OrDa",
      "include_colab_link": true
    },
    "kernelspec": {
      "name": "python3",
      "display_name": "Python 3"
    },
    "language_info": {
      "name": "python"
    }
  },
  "cells": [
    {
      "cell_type": "markdown",
      "metadata": {
        "id": "view-in-github",
        "colab_type": "text"
      },
      "source": [
        "<a href=\"https://colab.research.google.com/github/Ichchha-coder/Projects_/blob/main/Data_analysis.ipynb\" target=\"_parent\"><img src=\"https://colab.research.google.com/assets/colab-badge.svg\" alt=\"Open In Colab\"/></a>"
      ]
    },
    {
      "cell_type": "code",
      "execution_count": null,
      "metadata": {
        "id": "imCLH-V8hYzo"
      },
      "outputs": [],
      "source": [
        "import pandas as pd"
      ]
    },
    {
      "cell_type": "code",
      "source": [
        "df=pd.read_csv(\"updated_scores.csv\")"
      ],
      "metadata": {
        "id": "2htTF-5BhhIF"
      },
      "execution_count": null,
      "outputs": []
    },
    {
      "cell_type": "code",
      "source": [
        "df.head()"
      ],
      "metadata": {
        "colab": {
          "base_uri": "https://localhost:8080/",
          "height": 206
        },
        "id": "sMHBqz1ghndY",
        "outputId": "87193830-22dc-4148-a0a4-a65c68953a35"
      },
      "execution_count": null,
      "outputs": [
        {
          "output_type": "execute_result",
          "data": {
            "text/plain": [
              "       Full_Name Section  Score  Remarks  \\\n",
              "0  Ajar Shrestha     C11      7  Average   \n",
              "1  Sandhya Dumre     C11      9     Good   \n",
              "2     Riya Joshi     C11      6  Average   \n",
              "3   Aditya Raut      C11      7  Average   \n",
              "4  Manisha Shah      C11      9     Good   \n",
              "\n",
              "                                         Explanation  \n",
              "0  The student has an average performance but the...  \n",
              "1  The student performed well and demonstrates go...  \n",
              "2  The student has an average performance but the...  \n",
              "3  The student has an average performance but the...  \n",
              "4  The student performed well and demonstrates go...  "
            ],
            "text/html": [
              "\n",
              "  <div id=\"df-fcc905a8-d6af-4105-a81b-83f8131686d9\" class=\"colab-df-container\">\n",
              "    <div>\n",
              "<style scoped>\n",
              "    .dataframe tbody tr th:only-of-type {\n",
              "        vertical-align: middle;\n",
              "    }\n",
              "\n",
              "    .dataframe tbody tr th {\n",
              "        vertical-align: top;\n",
              "    }\n",
              "\n",
              "    .dataframe thead th {\n",
              "        text-align: right;\n",
              "    }\n",
              "</style>\n",
              "<table border=\"1\" class=\"dataframe\">\n",
              "  <thead>\n",
              "    <tr style=\"text-align: right;\">\n",
              "      <th></th>\n",
              "      <th>Full_Name</th>\n",
              "      <th>Section</th>\n",
              "      <th>Score</th>\n",
              "      <th>Remarks</th>\n",
              "      <th>Explanation</th>\n",
              "    </tr>\n",
              "  </thead>\n",
              "  <tbody>\n",
              "    <tr>\n",
              "      <th>0</th>\n",
              "      <td>Ajar Shrestha</td>\n",
              "      <td>C11</td>\n",
              "      <td>7</td>\n",
              "      <td>Average</td>\n",
              "      <td>The student has an average performance but the...</td>\n",
              "    </tr>\n",
              "    <tr>\n",
              "      <th>1</th>\n",
              "      <td>Sandhya Dumre</td>\n",
              "      <td>C11</td>\n",
              "      <td>9</td>\n",
              "      <td>Good</td>\n",
              "      <td>The student performed well and demonstrates go...</td>\n",
              "    </tr>\n",
              "    <tr>\n",
              "      <th>2</th>\n",
              "      <td>Riya Joshi</td>\n",
              "      <td>C11</td>\n",
              "      <td>6</td>\n",
              "      <td>Average</td>\n",
              "      <td>The student has an average performance but the...</td>\n",
              "    </tr>\n",
              "    <tr>\n",
              "      <th>3</th>\n",
              "      <td>Aditya Raut</td>\n",
              "      <td>C11</td>\n",
              "      <td>7</td>\n",
              "      <td>Average</td>\n",
              "      <td>The student has an average performance but the...</td>\n",
              "    </tr>\n",
              "    <tr>\n",
              "      <th>4</th>\n",
              "      <td>Manisha Shah</td>\n",
              "      <td>C11</td>\n",
              "      <td>9</td>\n",
              "      <td>Good</td>\n",
              "      <td>The student performed well and demonstrates go...</td>\n",
              "    </tr>\n",
              "  </tbody>\n",
              "</table>\n",
              "</div>\n",
              "    <div class=\"colab-df-buttons\">\n",
              "\n",
              "  <div class=\"colab-df-container\">\n",
              "    <button class=\"colab-df-convert\" onclick=\"convertToInteractive('df-fcc905a8-d6af-4105-a81b-83f8131686d9')\"\n",
              "            title=\"Convert this dataframe to an interactive table.\"\n",
              "            style=\"display:none;\">\n",
              "\n",
              "  <svg xmlns=\"http://www.w3.org/2000/svg\" height=\"24px\" viewBox=\"0 -960 960 960\">\n",
              "    <path d=\"M120-120v-720h720v720H120Zm60-500h600v-160H180v160Zm220 220h160v-160H400v160Zm0 220h160v-160H400v160ZM180-400h160v-160H180v160Zm440 0h160v-160H620v160ZM180-180h160v-160H180v160Zm440 0h160v-160H620v160Z\"/>\n",
              "  </svg>\n",
              "    </button>\n",
              "\n",
              "  <style>\n",
              "    .colab-df-container {\n",
              "      display:flex;\n",
              "      gap: 12px;\n",
              "    }\n",
              "\n",
              "    .colab-df-convert {\n",
              "      background-color: #E8F0FE;\n",
              "      border: none;\n",
              "      border-radius: 50%;\n",
              "      cursor: pointer;\n",
              "      display: none;\n",
              "      fill: #1967D2;\n",
              "      height: 32px;\n",
              "      padding: 0 0 0 0;\n",
              "      width: 32px;\n",
              "    }\n",
              "\n",
              "    .colab-df-convert:hover {\n",
              "      background-color: #E2EBFA;\n",
              "      box-shadow: 0px 1px 2px rgba(60, 64, 67, 0.3), 0px 1px 3px 1px rgba(60, 64, 67, 0.15);\n",
              "      fill: #174EA6;\n",
              "    }\n",
              "\n",
              "    .colab-df-buttons div {\n",
              "      margin-bottom: 4px;\n",
              "    }\n",
              "\n",
              "    [theme=dark] .colab-df-convert {\n",
              "      background-color: #3B4455;\n",
              "      fill: #D2E3FC;\n",
              "    }\n",
              "\n",
              "    [theme=dark] .colab-df-convert:hover {\n",
              "      background-color: #434B5C;\n",
              "      box-shadow: 0px 1px 3px 1px rgba(0, 0, 0, 0.15);\n",
              "      filter: drop-shadow(0px 1px 2px rgba(0, 0, 0, 0.3));\n",
              "      fill: #FFFFFF;\n",
              "    }\n",
              "  </style>\n",
              "\n",
              "    <script>\n",
              "      const buttonEl =\n",
              "        document.querySelector('#df-fcc905a8-d6af-4105-a81b-83f8131686d9 button.colab-df-convert');\n",
              "      buttonEl.style.display =\n",
              "        google.colab.kernel.accessAllowed ? 'block' : 'none';\n",
              "\n",
              "      async function convertToInteractive(key) {\n",
              "        const element = document.querySelector('#df-fcc905a8-d6af-4105-a81b-83f8131686d9');\n",
              "        const dataTable =\n",
              "          await google.colab.kernel.invokeFunction('convertToInteractive',\n",
              "                                                    [key], {});\n",
              "        if (!dataTable) return;\n",
              "\n",
              "        const docLinkHtml = 'Like what you see? Visit the ' +\n",
              "          '<a target=\"_blank\" href=https://colab.research.google.com/notebooks/data_table.ipynb>data table notebook</a>'\n",
              "          + ' to learn more about interactive tables.';\n",
              "        element.innerHTML = '';\n",
              "        dataTable['output_type'] = 'display_data';\n",
              "        await google.colab.output.renderOutput(dataTable, element);\n",
              "        const docLink = document.createElement('div');\n",
              "        docLink.innerHTML = docLinkHtml;\n",
              "        element.appendChild(docLink);\n",
              "      }\n",
              "    </script>\n",
              "  </div>\n",
              "\n",
              "\n",
              "    <div id=\"df-0c3a211d-f2b0-4661-9288-8545e57ba651\">\n",
              "      <button class=\"colab-df-quickchart\" onclick=\"quickchart('df-0c3a211d-f2b0-4661-9288-8545e57ba651')\"\n",
              "                title=\"Suggest charts\"\n",
              "                style=\"display:none;\">\n",
              "\n",
              "<svg xmlns=\"http://www.w3.org/2000/svg\" height=\"24px\"viewBox=\"0 0 24 24\"\n",
              "     width=\"24px\">\n",
              "    <g>\n",
              "        <path d=\"M19 3H5c-1.1 0-2 .9-2 2v14c0 1.1.9 2 2 2h14c1.1 0 2-.9 2-2V5c0-1.1-.9-2-2-2zM9 17H7v-7h2v7zm4 0h-2V7h2v10zm4 0h-2v-4h2v4z\"/>\n",
              "    </g>\n",
              "</svg>\n",
              "      </button>\n",
              "\n",
              "<style>\n",
              "  .colab-df-quickchart {\n",
              "      --bg-color: #E8F0FE;\n",
              "      --fill-color: #1967D2;\n",
              "      --hover-bg-color: #E2EBFA;\n",
              "      --hover-fill-color: #174EA6;\n",
              "      --disabled-fill-color: #AAA;\n",
              "      --disabled-bg-color: #DDD;\n",
              "  }\n",
              "\n",
              "  [theme=dark] .colab-df-quickchart {\n",
              "      --bg-color: #3B4455;\n",
              "      --fill-color: #D2E3FC;\n",
              "      --hover-bg-color: #434B5C;\n",
              "      --hover-fill-color: #FFFFFF;\n",
              "      --disabled-bg-color: #3B4455;\n",
              "      --disabled-fill-color: #666;\n",
              "  }\n",
              "\n",
              "  .colab-df-quickchart {\n",
              "    background-color: var(--bg-color);\n",
              "    border: none;\n",
              "    border-radius: 50%;\n",
              "    cursor: pointer;\n",
              "    display: none;\n",
              "    fill: var(--fill-color);\n",
              "    height: 32px;\n",
              "    padding: 0;\n",
              "    width: 32px;\n",
              "  }\n",
              "\n",
              "  .colab-df-quickchart:hover {\n",
              "    background-color: var(--hover-bg-color);\n",
              "    box-shadow: 0 1px 2px rgba(60, 64, 67, 0.3), 0 1px 3px 1px rgba(60, 64, 67, 0.15);\n",
              "    fill: var(--button-hover-fill-color);\n",
              "  }\n",
              "\n",
              "  .colab-df-quickchart-complete:disabled,\n",
              "  .colab-df-quickchart-complete:disabled:hover {\n",
              "    background-color: var(--disabled-bg-color);\n",
              "    fill: var(--disabled-fill-color);\n",
              "    box-shadow: none;\n",
              "  }\n",
              "\n",
              "  .colab-df-spinner {\n",
              "    border: 2px solid var(--fill-color);\n",
              "    border-color: transparent;\n",
              "    border-bottom-color: var(--fill-color);\n",
              "    animation:\n",
              "      spin 1s steps(1) infinite;\n",
              "  }\n",
              "\n",
              "  @keyframes spin {\n",
              "    0% {\n",
              "      border-color: transparent;\n",
              "      border-bottom-color: var(--fill-color);\n",
              "      border-left-color: var(--fill-color);\n",
              "    }\n",
              "    20% {\n",
              "      border-color: transparent;\n",
              "      border-left-color: var(--fill-color);\n",
              "      border-top-color: var(--fill-color);\n",
              "    }\n",
              "    30% {\n",
              "      border-color: transparent;\n",
              "      border-left-color: var(--fill-color);\n",
              "      border-top-color: var(--fill-color);\n",
              "      border-right-color: var(--fill-color);\n",
              "    }\n",
              "    40% {\n",
              "      border-color: transparent;\n",
              "      border-right-color: var(--fill-color);\n",
              "      border-top-color: var(--fill-color);\n",
              "    }\n",
              "    60% {\n",
              "      border-color: transparent;\n",
              "      border-right-color: var(--fill-color);\n",
              "    }\n",
              "    80% {\n",
              "      border-color: transparent;\n",
              "      border-right-color: var(--fill-color);\n",
              "      border-bottom-color: var(--fill-color);\n",
              "    }\n",
              "    90% {\n",
              "      border-color: transparent;\n",
              "      border-bottom-color: var(--fill-color);\n",
              "    }\n",
              "  }\n",
              "</style>\n",
              "\n",
              "      <script>\n",
              "        async function quickchart(key) {\n",
              "          const quickchartButtonEl =\n",
              "            document.querySelector('#' + key + ' button');\n",
              "          quickchartButtonEl.disabled = true;  // To prevent multiple clicks.\n",
              "          quickchartButtonEl.classList.add('colab-df-spinner');\n",
              "          try {\n",
              "            const charts = await google.colab.kernel.invokeFunction(\n",
              "                'suggestCharts', [key], {});\n",
              "          } catch (error) {\n",
              "            console.error('Error during call to suggestCharts:', error);\n",
              "          }\n",
              "          quickchartButtonEl.classList.remove('colab-df-spinner');\n",
              "          quickchartButtonEl.classList.add('colab-df-quickchart-complete');\n",
              "        }\n",
              "        (() => {\n",
              "          let quickchartButtonEl =\n",
              "            document.querySelector('#df-0c3a211d-f2b0-4661-9288-8545e57ba651 button');\n",
              "          quickchartButtonEl.style.display =\n",
              "            google.colab.kernel.accessAllowed ? 'block' : 'none';\n",
              "        })();\n",
              "      </script>\n",
              "    </div>\n",
              "\n",
              "    </div>\n",
              "  </div>\n"
            ],
            "application/vnd.google.colaboratory.intrinsic+json": {
              "type": "dataframe",
              "variable_name": "df",
              "summary": "{\n  \"name\": \"df\",\n  \"rows\": 35,\n  \"fields\": [\n    {\n      \"column\": \"Full_Name\",\n      \"properties\": {\n        \"dtype\": \"string\",\n        \"num_unique_values\": 35,\n        \"samples\": [\n          \"Pankaj Rai\",\n          \"Sadique Akbar\",\n          \"Bishrut Raj Adhikari\"\n        ],\n        \"semantic_type\": \"\",\n        \"description\": \"\"\n      }\n    },\n    {\n      \"column\": \"Section\",\n      \"properties\": {\n        \"dtype\": \"category\",\n        \"num_unique_values\": 3,\n        \"samples\": [\n          \"C11\",\n          \"C12\",\n          \"c12\"\n        ],\n        \"semantic_type\": \"\",\n        \"description\": \"\"\n      }\n    },\n    {\n      \"column\": \"Score\",\n      \"properties\": {\n        \"dtype\": \"number\",\n        \"std\": 2,\n        \"min\": 0,\n        \"max\": 9,\n        \"num_unique_values\": 8,\n        \"samples\": [\n          9,\n          4,\n          7\n        ],\n        \"semantic_type\": \"\",\n        \"description\": \"\"\n      }\n    },\n    {\n      \"column\": \"Remarks\",\n      \"properties\": {\n        \"dtype\": \"category\",\n        \"num_unique_values\": 4,\n        \"samples\": [\n          \"Good\",\n          \"Absent\",\n          \"Average\"\n        ],\n        \"semantic_type\": \"\",\n        \"description\": \"\"\n      }\n    },\n    {\n      \"column\": \"Explanation\",\n      \"properties\": {\n        \"dtype\": \"category\",\n        \"num_unique_values\": 4,\n        \"samples\": [\n          \"The student performed well and demonstrates good understanding of the material.\",\n          \"The student did not attend the power test.\",\n          \"The student has an average performance but there is area for improvement.\"\n        ],\n        \"semantic_type\": \"\",\n        \"description\": \"\"\n      }\n    }\n  ]\n}"
            }
          },
          "metadata": {},
          "execution_count": 5
        }
      ]
    },
    {
      "cell_type": "code",
      "source": [
        "\n"
      ],
      "metadata": {
        "colab": {
          "base_uri": "https://localhost:8080/"
        },
        "id": "coEa2ejLhua9",
        "outputId": "6d4323f1-a9ad-455e-d184-a44d16fdbe77"
      },
      "execution_count": null,
      "outputs": [
        {
          "output_type": "stream",
          "name": "stdout",
          "text": [
            "<pandas.core.groupby.generic.SeriesGroupBy object at 0x7eb8ffa21cd0>\n"
          ]
        }
      ]
    },
    {
      "cell_type": "code",
      "source": [
        "names_scores = list(df[df['Score'] <= 4][['Full_Name', 'Score']].itertuples(index=False, name=None))\n",
        "print(names_scores)\n"
      ],
      "metadata": {
        "colab": {
          "base_uri": "https://localhost:8080/"
        },
        "id": "tORTBCTPh5h1",
        "outputId": "0e4526f4-d920-4c45-e3f5-4ed9aa2a21db"
      },
      "execution_count": null,
      "outputs": [
        {
          "output_type": "stream",
          "name": "stdout",
          "text": [
            "[('Sadique Akbar', 4), ('Anju Yadav', 3), ('Himal Pandey', 4), ('Om Prakash Yadav', 0), ('Roshan Jaiswal', 0), ('Nitesh Raut', 0)]\n"
          ]
        }
      ]
    },
    {
      "cell_type": "code",
      "source": [
        "# Define your custom remark order\n",
        "remark_order = ['Absent', 'Unsatisfactory', 'Average', 'Good', 'Excellent']\n",
        "\n",
        "# Count and reorder using Categorical\n",
        "remark_counts = df['Remarks'].value_counts().reindex(remark_order, fill_value=0).reset_index()\n",
        "remark_counts.columns = ['Remarks', 'Number of Students']\n",
        "\n",
        "# Display\n",
        "print(remark_counts)\n"
      ],
      "metadata": {
        "colab": {
          "base_uri": "https://localhost:8080/"
        },
        "id": "rBsrSsbriepk",
        "outputId": "0d248fee-e43d-4fee-dfe7-6b8590ae4ee8"
      },
      "execution_count": null,
      "outputs": [
        {
          "output_type": "stream",
          "name": "stdout",
          "text": [
            "          Remarks  Number of Students\n",
            "0          Absent                   3\n",
            "1  Unsatisfactory                   3\n",
            "2         Average                  19\n",
            "3            Good                  10\n",
            "4       Excellent                   0\n"
          ]
        }
      ]
    },
    {
      "cell_type": "code",
      "source": [
        "import matplotlib.pyplot as plt\n",
        "\n",
        "# Data\n",
        "remarks = ['Absent', 'Unsatisfactory', 'Average', 'Good', 'Excellent']\n",
        "student_counts = [3, 3, 19, 10, 0]\n",
        "\n",
        "# Plotting\n",
        "plt.figure(figsize=(10, 6))\n",
        "bars = plt.bar(remarks, student_counts, color=['#d9534f', '#f0ad4e', '#5bc0de', '#5cb85c', '#999999'])\n",
        "\n",
        "# Add counts on top of each bar\n",
        "for bar in bars:\n",
        "    yval = bar.get_height()\n",
        "    plt.text(bar.get_x() + bar.get_width()/2.0, yval + 0.3, int(yval), ha='center', va='bottom', fontsize=12)\n",
        "\n",
        "# Title and labels\n",
        "plt.title('Number of Students by Remarks', fontsize=16)\n",
        "plt.xlabel('Remarks', fontsize=14)\n",
        "plt.ylabel('Number of Students', fontsize=14)\n",
        "plt.ylim(0, max(student_counts) + 5)\n",
        "plt.grid(axis='y', linestyle='--', alpha=0.7)\n",
        "\n",
        "# Show the plot\n",
        "plt.tight_layout()\n",
        "plt.show()\n",
        "\n"
      ],
      "metadata": {
        "colab": {
          "base_uri": "https://localhost:8080/",
          "height": 607
        },
        "id": "KyUsGAK_1Lun",
        "outputId": "852b0362-13f7-4251-c89d-55fbfeeb39f1"
      },
      "execution_count": null,
      "outputs": [
        {
          "output_type": "display_data",
          "data": {
            "text/plain": [
              "<Figure size 1000x600 with 1 Axes>"
            ],
            "image/png": "[encoded data removed]"
          },
          "metadata": {}
        }
      ]
    },
    {
      "cell_type": "code",
      "source": [
        "import matplotlib.pyplot as plt\n",
        "\n",
        "# Data\n",
        "remarks = ['Absent', 'Unsatisfactory', 'Average', 'Good', 'Excellent']\n",
        "student_counts = [3, 3, 19, 10, 0]\n",
        "score_ranges = ['0', '1–4', '5–7', '8–9', '10']  # Corresponding score ranges\n",
        "\n",
        "# Create custom x-tick labels with both remark and score range\n",
        "xtick_labels = [f\"{r}\\n({s})\" for r, s in zip(remarks, score_ranges)]\n",
        "\n",
        "# Plotting\n",
        "plt.figure(figsize=(10, 6))\n",
        "bars = plt.bar(remarks, student_counts, color=['#d9534f', '#f0ad4e', '#5bc0de', '#5cb85c', '#999999'])\n",
        "\n",
        "# Replace x-tick labels with new ones\n",
        "plt.xticks(ticks=range(len(remarks)), labels=xtick_labels, fontsize=12)\n",
        "\n",
        "# Add counts on top of bars\n",
        "for bar in bars:\n",
        "    yval = bar.get_height()\n",
        "    plt.text(bar.get_x() + bar.get_width()/2.0, yval + 0.3, int(yval), ha='center', va='bottom', fontsize=12)\n",
        "\n",
        "# Labels and title\n",
        "plt.title('Number of Students by Remarks', fontsize=16)\n",
        "plt.xlabel('Remarks (Score Range)', fontsize=14)\n",
        "plt.ylabel('Number of Students', fontsize=14)\n",
        "plt.ylim(0, max(student_counts) + 5)\n",
        "plt.grid(axis='y', linestyle='--', alpha=0.7)\n",
        "\n",
        "plt.tight_layout()\n",
        "plt.show()\n"
      ],
      "metadata": {
        "colab": {
          "base_uri": "https://localhost:8080/",
          "height": 607
        },
        "id": "koCvA90Q2Vpf",
        "outputId": "50258b4a-5f15-4359-c167-934f42230db6"
      },
      "execution_count": null,
      "outputs": [
        {
          "output_type": "display_data",
          "data": {
            "text/plain": [
              "<Figure size 1000x600 with 1 Axes>"
            ],
            "image/png": "[encoded data removed]"
          },
          "metadata": {}
        }
      ]
    },
    {
      "cell_type": "code",
      "source": [
        "# Filter students who scored zero\n",
        "students_with_zero_score = df[df['Score'] == 0]['Full_Name']\n",
        "\n",
        "# Display the result\n",
        "print(students_with_zero_score)\n"
      ],
      "metadata": {
        "colab": {
          "base_uri": "https://localhost:8080/"
        },
        "id": "f897ZR0324QJ",
        "outputId": "c86f36bc-a5ae-4ecc-a7c3-b4089fc34a7b"
      },
      "execution_count": null,
      "outputs": [
        {
          "output_type": "stream",
          "name": "stdout",
          "text": [
            "17    Om Prakash Yadav\n",
            "18      Roshan Jaiswal\n",
            "34         Nitesh Raut\n",
            "Name: Full_Name, dtype: object\n"
          ]
        }
      ]
    },
    {
      "cell_type": "code",
      "source": [
        "# Filter students who scored between 1 and 4 (inclusive)\n",
        "students_with_low_scores = df[df['Score'].between(1, 4)][['Full_Name', 'Score']]\n",
        "\n",
        "# Display the result\n",
        "print(students_with_low_scores)\n"
      ],
      "metadata": {
        "colab": {
          "base_uri": "https://localhost:8080/"
        },
        "id": "YzyFF-j235vM",
        "outputId": "f7a63aa1-b819-473f-f5ed-27a935bd92ab"
      },
      "execution_count": null,
      "outputs": [
        {
          "output_type": "stream",
          "name": "stdout",
          "text": [
            "        Full_Name  Score\n",
            "13  Sadique Akbar      4\n",
            "15     Anju Yadav      3\n",
            "16   Himal Pandey      4\n"
          ]
        }
      ]
    },
    {
      "cell_type": "code",
      "source": [
        "# Find unique section names in the overall DataFrame\n",
        "sections = df['Section'].unique()\n",
        "\n",
        "# Display the result\n",
        "print(sections)"
      ],
      "metadata": {
        "colab": {
          "base_uri": "https://localhost:8080/"
        },
        "id": "z1iiqBYd5TU8",
        "outputId": "ad7ded11-212a-4b66-f5aa-52415e5a0f6e"
      },
      "execution_count": null,
      "outputs": [
        {
          "output_type": "stream",
          "name": "stdout",
          "text": [
            "['C11' 'C12' 'c12']\n"
          ]
        }
      ]
    },
    {
      "cell_type": "code",
      "source": [
        "df['Section'] = df['Section'].str.upper()\n"
      ],
      "metadata": {
        "id": "bNMWwi_T6zon"
      },
      "execution_count": null,
      "outputs": []
    },
    {
      "cell_type": "code",
      "source": [
        "# Find unique section names in the overall DataFrame\n",
        "sections = df['Section'].unique()"
      ],
      "metadata": {
        "id": "QotYvZAt7Agg"
      },
      "execution_count": null,
      "outputs": []
    },
    {
      "cell_type": "code",
      "source": [
        "sections"
      ],
      "metadata": {
        "colab": {
          "base_uri": "https://localhost:8080/"
        },
        "id": "rJQFk6PM7DYT",
        "outputId": "609fa830-91c3-44ad-aaac-378f580740e5"
      },
      "execution_count": null,
      "outputs": [
        {
          "output_type": "execute_result",
          "data": {
            "text/plain": [
              "array(['C11', 'C12'], dtype=object)"
            ]
          },
          "metadata": {},
          "execution_count": 14
        }
      ]
    },
    {
      "cell_type": "code",
      "source": [
        "import pandas as pd\n",
        "\n",
        "# 1. Average score per section\n",
        "average_scores = df.groupby('Section')['Score'].mean()\n",
        "print(\"Average Score per Section:\")\n",
        "print(average_scores)\n",
        "\n",
        "# 2. Variance of scores per section\n",
        "variance_scores = df.groupby('Section')['Score'].var()\n",
        "print(\"\\nVariance of Scores per Section:\")\n",
        "print(variance_scores)\n",
        "\n",
        "# 3. Section with maximum variance\n",
        "max_variance_section = variance_scores.idxmax()\n",
        "max_variance_value = variance_scores.max()\n",
        "print(f\"\\nSection with maximum variance: {max_variance_section} (Variance = {max_variance_value})\")\n"
      ],
      "metadata": {
        "colab": {
          "base_uri": "https://localhost:8080/"
        },
        "id": "O2gVZMGu7Ekh",
        "outputId": "1bb286ee-0745-4fce-8ff7-aabc5a109f0b"
      },
      "execution_count": null,
      "outputs": [
        {
          "output_type": "stream",
          "name": "stdout",
          "text": [
            "Average Score per Section:\n",
            "Section\n",
            "C11    5.842105\n",
            "C12    6.500000\n",
            "Name: Score, dtype: float64\n",
            "\n",
            "Variance of Scores per Section:\n",
            "Section\n",
            "C11    6.918129\n",
            "C12    4.933333\n",
            "Name: Score, dtype: float64\n",
            "\n",
            "Section with maximum variance: C11 (Variance = 6.918128654970758)\n"
          ]
        }
      ]
    },
    {
      "cell_type": "code",
      "source": [
        "import matplotlib.pyplot as plt\n",
        "\n",
        "# Calculate average scores per section\n",
        "average_scores = df.groupby('Section')['Score'].mean()\n",
        "\n",
        "# Plotting\n",
        "plt.figure(figsize=(8,5))\n",
        "average_scores.plot(kind='bar', color='skyblue')\n",
        "plt.xlabel('Section')\n",
        "plt.ylabel('Average Score')\n",
        "plt.title('Average Score per Section')\n",
        "plt.ylim(0, 10)  # Assuming scores are between 0 and 10\n",
        "plt.grid(axis='y', linestyle='--', alpha=0.7)\n",
        "plt.show()\n"
      ],
      "metadata": {
        "colab": {
          "base_uri": "https://localhost:8080/",
          "height": 501
        },
        "id": "Ui_pHEbq7P45",
        "outputId": "9d9f139a-5f84-4691-e850-2fe310fb7764"
      },
      "execution_count": null,
      "outputs": [
        {
          "output_type": "display_data",
          "data": {
            "text/plain": [
              "<Figure size 800x500 with 1 Axes>"
            ],
            "image/png": "[encoded data removed]"
          },
          "metadata": {}
        }
      ]
    },
    {
      "cell_type": "code",
      "source": [
        "import matplotlib.pyplot as plt\n",
        "\n",
        "# Data\n",
        "average_scores = {\n",
        "    'C11': 5.842105,\n",
        "    'C12': 6.500000\n",
        "}\n",
        "\n",
        "# Prepare data\n",
        "sections = list(average_scores.keys())\n",
        "scores = list(average_scores.values())\n",
        "\n",
        "# Create figure\n",
        "plt.figure(figsize=(8, 5))\n",
        "bars = plt.bar(sections, scores, color='#16A085', width=0.6, edgecolor='black')\n",
        "\n",
        "# Add labels to bars\n",
        "for bar in bars:\n",
        "    yval = bar.get_height()\n",
        "    plt.text(bar.get_x() + bar.get_width()/2, yval + 0.15, f'{yval:.2f}',\n",
        "             ha='center', va='bottom', fontsize=11, fontweight='bold', color='black')\n",
        "\n",
        "# Styling\n",
        "plt.title('📊 Average Score per Section', fontsize=14, fontweight='bold', color='#2C3E50')\n",
        "plt.xlabel('Section', fontsize=12, color='#34495E')\n",
        "plt.ylabel('Average Score', fontsize=12, color='#34495E')\n",
        "plt.ylim(0, 10)\n",
        "plt.grid(axis='y', linestyle='--', alpha=0.4)\n",
        "plt.xticks(fontsize=11)\n",
        "plt.yticks(fontsize=11)\n",
        "plt.tight_layout()\n",
        "\n",
        "# Show chart\n",
        "plt.show()\n"
      ],
      "metadata": {
        "colab": {
          "base_uri": "https://localhost:8080/",
          "height": 576
        },
        "id": "K4ZZlijY80hi",
        "outputId": "47c6e273-809e-41a4-fe6c-2fede7bb2580"
      },
      "execution_count": null,
      "outputs": [
        {
          "output_type": "stream",
          "name": "stderr",
          "text": [
            "/tmp/ipython-input-18-436502986.py:31: UserWarning: Glyph 128202 (\\N{BAR CHART}) missing from font(s) DejaVu Sans.\n",
            "  plt.tight_layout()\n",
            "/usr/local/lib/python3.11/dist-packages/IPython/core/pylabtools.py:151: UserWarning: Glyph 128202 (\\N{BAR CHART}) missing from font(s) DejaVu Sans.\n",
            "  fig.canvas.print_figure(bytes_io, **kw)\n"
          ]
        },
        {
          "output_type": "display_data",
          "data": {
            "text/plain": [
              "<Figure size 800x500 with 1 Axes>"
            ],
            "image/png": "[encoded data removed]"
          },
          "metadata": {}
        }
      ]
    },
    {
      "cell_type": "code",
      "source": [],
      "metadata": {
        "id": "q7g4czfv8_S0"
      },
      "execution_count": null,
      "outputs": []
    }
  ]
}